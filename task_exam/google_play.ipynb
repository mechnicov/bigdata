{
 "cells": [
  {
   "cell_type": "code",
   "execution_count": 1,
   "id": "8fd80d8d",
   "metadata": {},
   "outputs": [],
   "source": [
    "import os"
   ]
  },
  {
   "cell_type": "code",
   "execution_count": 2,
   "id": "74cc37e6",
   "metadata": {},
   "outputs": [],
   "source": [
    "os.makedirs('export', exist_ok = True)"
   ]
  },
  {
   "cell_type": "code",
   "execution_count": 3,
   "id": "2695ea1c",
   "metadata": {},
   "outputs": [
    {
     "data": {
      "text/plain": [
       "'export/gp.zip'"
      ]
     },
     "execution_count": 3,
     "metadata": {},
     "output_type": "execute_result"
    }
   ],
   "source": [
    "import gdown\n",
    "\n",
    "gdown.download('https://drive.google.com/uc?id=1BqHzpcPg72yUJMpTzIEdQUs-TR2oIWaw', 'export/gp.zip', quiet = True)"
   ]
  },
  {
   "cell_type": "code",
   "execution_count": 4,
   "id": "46443309",
   "metadata": {},
   "outputs": [],
   "source": [
    "import zipfile\n",
    "\n",
    "with zipfile.ZipFile('export/gp.zip', 'r') as zip_ref:\n",
    "    zip_ref.extractall('export')"
   ]
  },
  {
   "cell_type": "code",
   "execution_count": 5,
   "id": "9ef267be",
   "metadata": {},
   "outputs": [],
   "source": [
    "from pyspark.sql import SparkSession\n",
    "import pyspark.sql.functions as F"
   ]
  },
  {
   "cell_type": "code",
   "execution_count": 6,
   "id": "aee0a234",
   "metadata": {},
   "outputs": [],
   "source": [
    "os.environ['PYSPARK_PYTHON'] = 'python3'"
   ]
  },
  {
   "cell_type": "code",
   "execution_count": 7,
   "id": "72b32d9c",
   "metadata": {},
   "outputs": [],
   "source": [
    "spark = SparkSession.builder.appName('GooglePlay').getOrCreate()"
   ]
  },
  {
   "cell_type": "code",
   "execution_count": 8,
   "id": "540b6c4c",
   "metadata": {},
   "outputs": [],
   "source": [
    "df = spark.read.json('export/gp.jsonl')"
   ]
  },
  {
   "cell_type": "code",
   "execution_count": 9,
   "id": "9cf8c4bb",
   "metadata": {},
   "outputs": [
    {
     "data": {
      "text/plain": [
       "<bound method DataFrame.printSchema of DataFrame[author: string, author_link: string, compatibility: string, content_rating: string, description: string, developer_badge: string, developer_id: string, downloads: string, genre: string, item_name: string, link: string, physical_address: string, price: string, rating_value: string, review_number: string, updated: string, url: string, version: string, video_url: string]>"
      ]
     },
     "execution_count": 9,
     "metadata": {},
     "output_type": "execute_result"
    }
   ],
   "source": [
    "df.printSchema"
   ]
  },
  {
   "cell_type": "code",
   "execution_count": 10,
   "id": "aec3c569",
   "metadata": {},
   "outputs": [],
   "source": [
    "df.createOrReplaceTempView('apps')"
   ]
  },
  {
   "cell_type": "code",
   "execution_count": 11,
   "id": "c177beee",
   "metadata": {},
   "outputs": [
    {
     "name": "stdout",
     "output_type": "stream",
     "text": [
      "+--------------------+------+\n",
      "|           item_name|rating|\n",
      "+--------------------+------+\n",
      "|Photo Collage Editor|   4.6|\n",
      "|แต่งรูป สติ๊กเกอร...|   4.6|\n",
      "|FotoTool - Photog...|   4.6|\n",
      "|Hoarding Pic Coll...|   4.6|\n",
      "|Name Birthday Wishes|   4.6|\n",
      "|Free Salento Sfon...|   4.6|\n",
      "|Ramzyat HD - رمزي...|   4.6|\n",
      "| Photo Effect Eraser|   4.6|\n",
      "|         Photo Mixer|   4.6|\n",
      "|         Love Frames|   4.6|\n",
      "|        Jaguar Theme|   4.6|\n",
      "|Bridal Suit Photo...|   4.6|\n",
      "|PhotoMemo - Preci...|   4.6|\n",
      "|Navratri Photo Fr...|   4.7|\n",
      "|Women Day Photo C...|   4.7|\n",
      "|New Year Photo Fr...|   4.7|\n",
      "|    Photo To Art Pro|   4.7|\n",
      "| Christmas Wallpaper|   4.7|\n",
      "|      Rainbow Frames|   4.7|\n",
      "|Hijab Beauty Wedding|   4.7|\n",
      "+--------------------+------+\n",
      "only showing top 20 rows\n",
      "\n"
     ]
    }
   ],
   "source": [
    "best_photographies = spark.sql(\n",
    "    '''SELECT item_name, CAST(rating_value as FLOAT) as rating FROM apps\n",
    "    WHERE genre = 'Photography' AND CAST(rating_value as FLOAT) > 4.5\n",
    "    ORDER BY rating\n",
    "    '''\n",
    ")\n",
    "\n",
    "best_photographies.show()"
   ]
  },
  {
   "cell_type": "code",
   "execution_count": 12,
   "id": "3e91a81f",
   "metadata": {},
   "outputs": [
    {
     "name": "stdout",
     "output_type": "stream",
     "text": [
      "+--------------------+-------------------------------------+\n",
      "|           item_name|                          description|\n",
      "+--------------------+-------------------------------------+\n",
      "| Pregancy Calculator|                 This is a pregnan...|\n",
      "|Elvis Presley Mus...|                 Songs,lyrics,phot...|\n",
      "|    STB Smart Remote|可以通过手机连接并遥控机顶盒，手机...|\n",
      "|      Test Pitagoras|                 Test de 20 pregun...|\n",
      "|Ukrainian Fairy T...|                 Many generations ...|\n",
      "|        Hair Clipper|                 This app allows y...|\n",
      "|Percentage Calcul...|                 Basic Percentage ...|\n",
      "|      通話ランキング|通話回数、通話時間単位でランキング...|\n",
      "|     Revenue Monitor|                 beta versionCurre...|\n",
      "|Secret Love Notif...|                 Help you, show yo...|\n",
      "|   Lahourcade Basket|                 Appli officielle ...|\n",
      "|Rádio Pentecostal...|                 Aplicativo da Rád...|\n",
      "|       This is Ninja|                 Help Ninja to jum...|\n",
      "|      Basketballaris|                 A site about Aris...|\n",
      "|Clickers Flags Fr...|                 Clickers Flags Fr...|\n",
      "|          Fagerdroid|                 To know what is t...|\n",
      "|           Pong test|                 This is a very ba...|\n",
      "|   زوجتى zaogaty.com|                 تطبيق موقع زوجتى ...|\n",
      "|Global School Kid...|                 * Daily Homework*...|\n",
      "|         Battleships|                 The appendix cont...|\n",
      "+--------------------+-------------------------------------+\n",
      "only showing top 20 rows\n",
      "\n"
     ]
    }
   ],
   "source": [
    "good_descriptions = spark.sql(\n",
    "    '''SELECT item_name, description FROM apps\n",
    "    WHERE LENGTH(description) > 100\n",
    "    ORDER BY LENGTH(description)\n",
    "    '''\n",
    ")\n",
    "\n",
    "good_descriptions.show()"
   ]
  },
  {
   "cell_type": "code",
   "execution_count": 13,
   "id": "9833e2ed",
   "metadata": {},
   "outputs": [
    {
     "name": "stdout",
     "output_type": "stream",
     "text": [
      "+----------------------------------------+------+\n",
      "|                               item_name| price|\n",
      "+----------------------------------------+------+\n",
      "|                    All is Well; Be H...| 300.0|\n",
      "|                                 DCKoin6|299.99|\n",
      "|                    Apple and Ham Fla...|139.99|\n",
      "|                             Robot Horse| 63.99|\n",
      "|                              Calculator| 50.99|\n",
      "|                               Skypier 7| 49.99|\n",
      "|                    TRBOnet™ Bluetoot...| 47.99|\n",
      "|                    ViperOne ProKey (...| 43.63|\n",
      "|                    The White Belt Bible| 41.99|\n",
      "|                    Corbin Champion U...| 40.99|\n",
      "|                    Drugs in Anaesth&...| 34.99|\n",
      "|                    Gujarati For Kids...| 31.33|\n",
      "|                    Hungarian For Kid...| 30.95|\n",
      "|                    Mini Sale for Min...| 27.99|\n",
      "|                    French-Slovak Dic...| 26.99|\n",
      "|                    Lernerfolg Grunds...| 23.99|\n",
      "|                      吉祥易經卜卦正式版| 21.68|\n",
      "|圣经．普通话聆听版．新旧约全书（下载版）| 20.99|\n",
      "|                    BigStrong9, BJJ G...| 19.49|\n",
      "|                                     GDJ| 18.99|\n",
      "+----------------------------------------+------+\n",
      "only showing top 20 rows\n",
      "\n"
     ]
    }
   ],
   "source": [
    "most_expansive = spark.sql(\n",
    "    '''SELECT item_name, CAST(TRIM('£ Buy' FROM price) AS FLOAT) AS price FROM apps\n",
    "    WHERE price <> 'Install'\n",
    "    ORDER BY price DESC\n",
    "    '''\n",
    ")\n",
    "\n",
    "most_expansive.show()"
   ]
  },
  {
   "cell_type": "code",
   "execution_count": 14,
   "id": "8fe8b49c",
   "metadata": {},
   "outputs": [
    {
     "name": "stdout",
     "output_type": "stream",
     "text": [
      "+--------------------+--------------------+\n",
      "|         description|           downloads|\n",
      "+--------------------+--------------------+\n",
      "|Come join Talking...|100,000,000 - 500...|\n",
      "|GO Keyboard - Goo...|100,000,000 - 500...|\n",
      "|The Kindle app pu...|100,000,000 - 500...|\n",
      "|GO Keyboard - Goo...|100,000,000 - 500...|\n",
      "|Tired of the bori...|100,000,000 - 500...|\n",
      "|Build secret word...|10,000,000 - 50,0...|\n",
      "|Water Drop live w...|10,000,000 - 50,0...|\n",
      "|Watch live video ...|10,000,000 - 50,0...|\n",
      "|Go go go! You are...|10,000,000 - 50,0...|\n",
      "|This is the perfe...|10,000,000 - 50,0...|\n",
      "|Welcome to the va...|10,000,000 - 50,0...|\n",
      "|Hourly weather fo...|10,000,000 - 50,0...|\n",
      "|Do you like build...|10,000,000 - 50,0...|\n",
      "|YAHTZEE® - the cl...|10,000,000 - 50,0...|\n",
      "|Labyrinth is the ...|10,000,000 - 50,0...|\n",
      "|• Expand your net...|10,000,000 - 50,0...|\n",
      "|In this kitchen c...|10,000,000 - 50,0...|\n",
      "|Santa Biblia Rein...|10,000,000 - 50,0...|\n",
      "|\"Dragon Mania Leg...|10,000,000 - 50,0...|\n",
      "|• Effortlessly tr...|10,000,000 - 50,0...|\n",
      "+--------------------+--------------------+\n",
      "only showing top 20 rows\n",
      "\n"
     ]
    }
   ],
   "source": [
    "best_downloads = df.select(\n",
    "    F.col('description'),\n",
    "    F.col('downloads')\n",
    ").sort(\n",
    "    F.regexp_extract(F.regexp_replace(F.col('downloads'), r',', ''), r'(\\d+)', 1).cast('int'), ascending=False\n",
    ")\n",
    "\n",
    "best_downloads.show()"
   ]
  }
 ],
 "metadata": {
  "kernelspec": {
   "display_name": "Python 3",
   "language": "python",
   "name": "python3"
  },
  "language_info": {
   "codemirror_mode": {
    "name": "ipython",
    "version": 3
   },
   "file_extension": ".py",
   "mimetype": "text/x-python",
   "name": "python",
   "nbconvert_exporter": "python",
   "pygments_lexer": "ipython3",
   "version": "3.8.5"
  }
 },
 "nbformat": 4,
 "nbformat_minor": 5
}
